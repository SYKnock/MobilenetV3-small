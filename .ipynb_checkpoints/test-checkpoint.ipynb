{
 "cells": [
  {
   "cell_type": "code",
   "execution_count": 1,
   "id": "ec3a73d0",
   "metadata": {
    "ExecuteTime": {
     "end_time": "2022-06-29T13:51:54.064771Z",
     "start_time": "2022-06-29T13:51:50.146017Z"
    }
   },
   "outputs": [
    {
     "name": "stdout",
     "output_type": "stream",
     "text": [
      "Requirement already satisfied: adamp in /opt/conda/lib/python3.8/site-packages (0.3.0)\n",
      "\u001b[33mWARNING: Running pip as the 'root' user can result in broken permissions and conflicting behaviour with the system package manager. It is recommended to use a virtual environment instead: https://pip.pypa.io/warnings/venv\u001b[0m\n"
     ]
    }
   ],
   "source": [
    "!pip install adamp"
   ]
  },
  {
   "cell_type": "code",
   "execution_count": 38,
   "id": "d22688a1",
   "metadata": {
    "ExecuteTime": {
     "end_time": "2022-06-29T14:24:32.279109Z",
     "start_time": "2022-06-29T14:24:32.272836Z"
    }
   },
   "outputs": [],
   "source": [
    "import torch\n",
    "import torchvision\n",
    "import torchvision.transforms as transforms\n",
    "import torchvision.datasets as datasets\n",
    "from torch.utils.data import DataLoader\n",
    "import torch.nn.functional as F\n",
    "import numpy as np\n",
    "from tqdm.notebook import tqdm\n",
    "import wandb\n",
    "from adamp import AdamP\n",
    "import time\n",
    "import random\n",
    "import os"
   ]
  },
  {
   "cell_type": "code",
   "execution_count": 3,
   "id": "0f7c835d",
   "metadata": {
    "ExecuteTime": {
     "end_time": "2022-06-29T13:51:55.030808Z",
     "start_time": "2022-06-29T13:51:54.994630Z"
    }
   },
   "outputs": [],
   "source": [
    "transform = transforms.Compose(\n",
    "[\n",
    "    #transforms.Resize((70, 70)),\n",
    "    #transforms.CenterCrop((64, 64)),\n",
    "    #transforms.RandomHorizontalFlip(),\n",
    "    #transforms.RandomVerticalFlip(),\n",
    "    #transforms.RandomRotation(45),\n",
    "    #transforms.RandomAffine(45),\n",
    "    #transforms.ColorJitter(),\n",
    "    transforms.ToTensor(),\n",
    "    transforms.Normalize((0.5, 0.5, 0.5,), (0.5, 0.5, 0.5))])\n",
    "\n",
    "batch = 128\n",
    "seed = 42 # deep thought\n",
    "epochs = 100\n",
    "valid_fraction = 0.1\n",
    "num_workers = 4\n",
    "lr = 0.01\n",
    "device = torch.device('cuda' if torch.cuda.is_available() else 'cpu')\n",
    "classes = ('plane', 'car', 'bird', 'cat',\n",
    "           'deer', 'dog', 'frog', 'horse', 'ship', 'truck')"
   ]
  },
  {
   "cell_type": "code",
   "execution_count": 4,
   "id": "2e6407d9",
   "metadata": {
    "ExecuteTime": {
     "end_time": "2022-06-29T13:51:55.995440Z",
     "start_time": "2022-06-29T13:51:55.031737Z"
    }
   },
   "outputs": [
    {
     "name": "stdout",
     "output_type": "stream",
     "text": [
      "Files already downloaded and verified\n"
     ]
    }
   ],
   "source": [
    "train_dataset = datasets.CIFAR10(root='./data',\n",
    "                                 train=True,\n",
    "                                 transform=transform,\n",
    "                                download=True)\n",
    "valid_dataset = datasets.CIFAR10(root='./data',\n",
    "                                 train=True,\n",
    "                                 transform=transform)\n",
    "test_dataset = datasets.CIFAR10(root='data',\n",
    "                                train=False,\n",
    "                                transform=transform)"
   ]
  },
  {
   "cell_type": "code",
   "execution_count": 5,
   "id": "ba5f59a0",
   "metadata": {
    "ExecuteTime": {
     "end_time": "2022-06-29T13:51:56.005548Z",
     "start_time": "2022-06-29T13:51:55.996335Z"
    }
   },
   "outputs": [
    {
     "name": "stderr",
     "output_type": "stream",
     "text": [
      "/opt/conda/lib/python3.8/site-packages/torch/utils/data/dataloader.py:478: UserWarning: This DataLoader will create 4 worker processes in total. Our suggested max number of worker in current system is 1, which is smaller than what this DataLoader is going to create. Please be aware that excessive worker creation might get DataLoader running slow or even freeze, lower the worker number to avoid potential slowness/freeze if necessary.\n",
      "  warnings.warn(_create_warning_msg(\n"
     ]
    }
   ],
   "source": [
    "dataset_size = len(train_dataset)\n",
    "idx_list = list(range(dataset_size))\n",
    "np.random.shuffle(idx_list)\n",
    "\n",
    "split = int(valid_fraction * dataset_size)\n",
    "\n",
    "train_idx = idx_list[split:]\n",
    "valid_idx = idx_list[:split]\n",
    "\n",
    "train_sampler = torch.utils.data.SubsetRandomSampler(train_idx)\n",
    "valid_sampler = torch.utils.data.SubsetRandomSampler(valid_idx)\n",
    "\n",
    "\n",
    "train_loader = DataLoader(dataset=train_dataset,\n",
    "                          batch_size=batch,\n",
    "                          num_workers=num_workers,\n",
    "                          shuffle=False,\n",
    "                          drop_last=True,\n",
    "                          sampler=train_sampler)\n",
    "\n",
    "valid_loader = DataLoader(dataset=train_dataset,\n",
    "                          batch_size=batch,\n",
    "                          num_workers=num_workers,\n",
    "                          shuffle=False,\n",
    "                          drop_last=True,\n",
    "                          sampler=valid_sampler)\n",
    "\n",
    "test_loader = DataLoader(dataset=test_dataset,\n",
    "                         batch_size=batch,\n",
    "                         num_workers=num_workers,\n",
    "                         shuffle=False)\n"
   ]
  },
  {
   "cell_type": "code",
   "execution_count": 6,
   "id": "2ad188f1",
   "metadata": {
    "ExecuteTime": {
     "end_time": "2022-06-29T13:51:56.018882Z",
     "start_time": "2022-06-29T13:51:56.006366Z"
    }
   },
   "outputs": [
    {
     "name": "stdout",
     "output_type": "stream",
     "text": [
      "1.9.0+cu111\n",
      "3.8.10 | packaged by conda-forge | (default, May 11 2021, 07:01:05) \n",
      "[GCC 9.3.0]\n"
     ]
    }
   ],
   "source": [
    "print(torch.__version__)\n",
    "import sys\n",
    "print(sys.version)"
   ]
  },
  {
   "cell_type": "code",
   "execution_count": 7,
   "id": "742cec12",
   "metadata": {
    "ExecuteTime": {
     "end_time": "2022-06-29T13:51:57.954530Z",
     "start_time": "2022-06-29T13:51:56.020753Z"
    }
   },
   "outputs": [],
   "source": [
    "mobilenet_v3_small = torchvision.models.mobilenet_v3_small(pretrained=False)\n",
    "mobilenet_v3_small.classifier[3] = torch.nn.Linear(in_features=1024, out_features=10)\n",
    "model = mobilenet_v3_small.to(device)\n",
    "paramas = model.parameters()"
   ]
  },
  {
   "cell_type": "code",
   "execution_count": 8,
   "id": "93323063",
   "metadata": {
    "ExecuteTime": {
     "end_time": "2022-06-29T13:51:57.957430Z",
     "start_time": "2022-06-29T13:51:57.955439Z"
    }
   },
   "outputs": [],
   "source": [
    "\n",
    "\n",
    "optimizer = torch.optim.Adam(paramas, lr=lr)\n",
    "#optimizer = AdamP(params, lr=lr)"
   ]
  },
  {
   "cell_type": "code",
   "execution_count": 29,
   "id": "93821066",
   "metadata": {
    "ExecuteTime": {
     "end_time": "2022-06-29T14:00:56.337619Z",
     "start_time": "2022-06-29T14:00:56.331522Z"
    }
   },
   "outputs": [],
   "source": [
    "def evaluation(model, data_loader, device):\n",
    "    model.eval()\n",
    "    correct = 0\n",
    "    total = 0\n",
    "\n",
    "    with torch.no_grad():\n",
    "        for batch_id, (features, targets) in tqdm(enumerate(data_loader), total = len(data_loader)):\n",
    "            features = features.to(device)\n",
    "            targets = targets.to(device)\n",
    "            output = model(features)\n",
    "            \n",
    "            if isinstance(output, torch.distributed.rpc.api.RRef):\n",
    "                output = output.local_value()\n",
    "            \n",
    "            _, predicts = torch.max(output, 1)\n",
    "            total += targets.size(0)\n",
    "            correct += predicts.eq(targets).sum().item()\n",
    "\n",
    "    accuracy = round(correct/total * 100., 4)\n",
    "    return accuracy"
   ]
  },
  {
   "cell_type": "code",
   "execution_count": 32,
   "id": "a1481b9f",
   "metadata": {
    "ExecuteTime": {
     "end_time": "2022-06-29T14:11:18.103255Z",
     "start_time": "2022-06-29T14:11:18.099352Z"
    }
   },
   "outputs": [],
   "source": [
    "def epoch_loss(model, data_loader, device):\n",
    "    model.eval()\n",
    "    epoch_loss = 0\n",
    "    total = 0\n",
    "    \n",
    "    with torch.no_grad():\n",
    "        for feature, targets in data_loader:\n",
    "            features = features.to(device)\n",
    "            targets = targets.to(device)\n",
    "            output = model(features)\n",
    "            \n",
    "            if isinstance(output, torch.distributed.rpc.api.RRef):\n",
    "                output = output.local_value()\n",
    "            total += targets.size(0)\n",
    "            loss = F.cross_entropy(outpus, targets, reduction='sum')\n",
    "            epoch_loss += loss\n",
    "    \n",
    "    return epoch_loss / total "
   ]
  },
  {
   "cell_type": "code",
   "execution_count": 34,
   "id": "1245ca34",
   "metadata": {
    "ExecuteTime": {
     "end_time": "2022-06-29T14:18:23.690147Z",
     "start_time": "2022-06-29T14:18:23.686797Z"
    }
   },
   "outputs": [],
   "source": [
    "def train(model, device, epoch, \n",
    "          train_loader, valid_loader, test_loader, \n",
    "          optimizer, scheduler=None, path=None, interval=100):\n",
    "    start_time = time.time()\n",
    "    \n",
    "    \n",
    "    \n",
    "    \n",
    "    "
   ]
  },
  {
   "cell_type": "code",
   "execution_count": 39,
   "id": "b4006be1",
   "metadata": {
    "ExecuteTime": {
     "end_time": "2022-06-29T14:24:34.430506Z",
     "start_time": "2022-06-29T14:24:34.427142Z"
    }
   },
   "outputs": [],
   "source": [
    "def set_seed(seed):\n",
    "    os.environ[\"PL_GLOBAL_SEED\"] = str(seed)\n",
    "    random.seed(seed)\n",
    "    np.random.seed(seed)\n",
    "    torch.manual_seed(seed)\n",
    "    torch.cuda.manual_seed_all(seed)"
   ]
  },
  {
   "cell_type": "code",
   "execution_count": 40,
   "id": "869e3297",
   "metadata": {
    "ExecuteTime": {
     "end_time": "2022-06-29T14:24:49.630989Z",
     "start_time": "2022-06-29T14:24:49.628362Z"
    }
   },
   "outputs": [],
   "source": [
    "set_seed(seed)"
   ]
  },
  {
   "cell_type": "code",
   "execution_count": null,
   "id": "32783fa3",
   "metadata": {},
   "outputs": [],
   "source": []
  }
 ],
 "metadata": {
  "kernelspec": {
   "display_name": "Python 3",
   "language": "python",
   "name": "python3"
  },
  "language_info": {
   "codemirror_mode": {
    "name": "ipython",
    "version": 3
   },
   "file_extension": ".py",
   "mimetype": "text/x-python",
   "name": "python",
   "nbconvert_exporter": "python",
   "pygments_lexer": "ipython3",
   "version": "3.8.10"
  },
  "toc": {
   "base_numbering": 1,
   "nav_menu": {},
   "number_sections": false,
   "sideBar": true,
   "skip_h1_title": false,
   "title_cell": "Table of Contents",
   "title_sidebar": "Contents",
   "toc_cell": false,
   "toc_position": {},
   "toc_section_display": true,
   "toc_window_display": false
  }
 },
 "nbformat": 4,
 "nbformat_minor": 5
}
